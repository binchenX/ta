{
 "cells": [
  {
   "cell_type": "code",
   "execution_count": 1,
   "metadata": {},
   "outputs": [
    {
     "ename": "ImportError",
     "evalue": "cannot import name 'SemanticAI' from 'semantic_kernel' (/Users/chenb5/.asdf/installs/python/3.11.9/lib/python3.11/site-packages/semantic_kernel/__init__.py)",
     "output_type": "error",
     "traceback": [
      "\u001b[0;31m---------------------------------------------------------------------------\u001b[0m",
      "\u001b[0;31mImportError\u001b[0m                               Traceback (most recent call last)",
      "Cell \u001b[0;32mIn[1], line 1\u001b[0m\n\u001b[0;32m----> 1\u001b[0m \u001b[38;5;28;01mfrom\u001b[39;00m\u001b[38;5;250m \u001b[39m\u001b[38;5;21;01msemantic_kernel\u001b[39;00m\u001b[38;5;250m \u001b[39m\u001b[38;5;28;01mimport\u001b[39;00m Kernel, SemanticAI, MemoryVectorStore\n\u001b[1;32m      2\u001b[0m \u001b[38;5;28;01mfrom\u001b[39;00m\u001b[38;5;250m \u001b[39m\u001b[38;5;21;01msemantic_kernel\u001b[39;00m\u001b[38;5;21;01m.\u001b[39;00m\u001b[38;5;21;01mconnectors\u001b[39;00m\u001b[38;5;21;01m.\u001b[39;00m\u001b[38;5;21;01mai\u001b[39;00m\u001b[38;5;21;01m.\u001b[39;00m\u001b[38;5;21;01mopenai\u001b[39;00m\u001b[38;5;250m \u001b[39m\u001b[38;5;28;01mimport\u001b[39;00m OpenAI\n\u001b[1;32m      4\u001b[0m \u001b[38;5;66;03m# Load or create a vector store for the knowledge base\u001b[39;00m\n",
      "\u001b[0;31mImportError\u001b[0m: cannot import name 'SemanticAI' from 'semantic_kernel' (/Users/chenb5/.asdf/installs/python/3.11.9/lib/python3.11/site-packages/semantic_kernel/__init__.py)"
     ]
    }
   ],
   "source": [
    "from semantic_kernel import Kernel, SemanticAI, MemoryVectorStore\n",
    "from semantic_kernel.connectors.ai.openai import OpenAI\n",
    "\n",
    "# Load or create a vector store for the knowledge base\n",
    "source = \"/Users/chenb5/go/src/github.com/binchenx/blog\"\n",
    "vector_store = MemoryVectorStore(source)\n",
    "\n",
    "# Initialize the language model and SemanticAI instance\n",
    "llm = OpenAI()\n",
    "semantic_ai = SemanticAI(llm, memory=vector_store)\n",
    "\n",
    "# Create an agent that uses the SemanticAI instance\n",
    "class RAGAgent:\n",
    "    def __init__(self, kernel):\n",
    "        self.kernel = kernel\n",
    "\n",
    "    def run(self, query):\n",
    "        result = self.kernel.run(\n",
    "            query,\n",
    "            description=\"Answer the query using relevant information from the knowledge base\",\n",
    "            show_prompt=False,\n",
    "            ai=semantic_ai\n",
    "        )\n",
    "        return result\n",
    "\n",
    "# Create the Kernel and register the SemanticAI instance\n",
    "kernel = Kernel([semantic_ai], memory=vector_store)\n",
    "rag_agent = RAGAgent(kernel)\n",
    "\n",
    "# Use the RAG agent to answer questions\n",
    "question = \"What is the capital of France?\"\n",
    "answer = rag_agent.run(question)\n",
    "print(answer)"
   ]
  }
 ],
 "metadata": {
  "kernelspec": {
   "display_name": "Python 3",
   "language": "python",
   "name": "python3"
  },
  "language_info": {
   "codemirror_mode": {
    "name": "ipython",
    "version": 3
   },
   "file_extension": ".py",
   "mimetype": "text/x-python",
   "name": "python",
   "nbconvert_exporter": "python",
   "pygments_lexer": "ipython3",
   "version": "3.11.9"
  }
 },
 "nbformat": 4,
 "nbformat_minor": 2
}
